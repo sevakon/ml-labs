{
 "cells": [
  {
   "cell_type": "code",
   "execution_count": 146,
   "metadata": {},
   "outputs": [],
   "source": [
    "from itertools import product\n",
    "from tqdm.auto import tqdm\n",
    "\n",
    "import matplotlib.pyplot as plt\n",
    "import numpy as np\n",
    "import math\n",
    "\n",
    "%matplotlib inline"
   ]
  },
  {
   "cell_type": "code",
   "execution_count": 23,
   "metadata": {},
   "outputs": [],
   "source": [
    "from data import read_dataset, preprocess_features"
   ]
  },
  {
   "cell_type": "code",
   "execution_count": 163,
   "metadata": {},
   "outputs": [],
   "source": [
    "X_train, y_train, X_test, y_test = read_dataset(\"data/6.txt\")"
   ]
  },
  {
   "cell_type": "code",
   "execution_count": 164,
   "metadata": {},
   "outputs": [],
   "source": [
    "X_train, X_test = preprocess_features(X_train, X_test)"
   ]
  },
  {
   "cell_type": "markdown",
   "metadata": {},
   "source": [
    "## Метрика\n",
    "\n",
    "$$ NRMSE = \\frac{\\sqrt{\\mathbb{E}((\\hat{y} - y)^2)}}{y_{max} - y_{min}}$$"
   ]
  },
  {
   "cell_type": "code",
   "execution_count": 165,
   "metadata": {},
   "outputs": [],
   "source": [
    "def nrmse(X_test, y_test, weights):\n",
    "    y_max = np.max(y_test)\n",
    "    y_min = np.min(y_test)\n",
    "    y_hat = X_test @ weights\n",
    "    \n",
    "    rmse = np.sqrt(np.mean((y_hat - y_test) ** 2))\n",
    "    nrmse = rmse / (y_max - y_min)\n",
    "    \n",
    "    return nrmse"
   ]
  },
  {
   "cell_type": "markdown",
   "metadata": {},
   "source": [
    "## Метод наименьших квадратов\n",
    "$w = (X^TX + \\lambda I)^{-1} X^T y$"
   ]
  },
  {
   "cell_type": "code",
   "execution_count": 219,
   "metadata": {},
   "outputs": [],
   "source": [
    "def least_squares(X, y, lambd=0.0):\n",
    "    \"\"\" Least Squares solution with L2 reg \n",
    "    Computes the pseudo-inverse of a matrix \"\"\"\n",
    "    inv = np.linalg.inv(X.T @ X + lambd * np.eye(X.shape[1]))\n",
    "    pinv = inv @ X.T    \n",
    "    weights = pinv @ y\n",
    "    \n",
    "    return weights"
   ]
  },
  {
   "cell_type": "code",
   "execution_count": 220,
   "metadata": {},
   "outputs": [],
   "source": [
    "def grid_search_lstsq(lambdas):\n",
    "    best_test_metric = 99999\n",
    "    best_val = None\n",
    "\n",
    "    for l2_reg in tqdm(lambdas): \n",
    "        w = least_squares(X_train, y_train, l2_reg)\n",
    "        metric = nrmse(X_test, y_test, w)\n",
    "\n",
    "        if metric < best_test_metric:\n",
    "            best_test_metric = metric\n",
    "            best_val = l2_reg\n",
    "            \n",
    "    print(f'Best NRMSE: {best_test_metric}, lambda: {best_val}')"
   ]
  },
  {
   "cell_type": "code",
   "execution_count": 223,
   "metadata": {},
   "outputs": [
    {
     "data": {
      "application/vnd.jupyter.widget-view+json": {
       "model_id": "1c7e65ffc9484b7fb321d48feb20449f",
       "version_major": 2,
       "version_minor": 0
      },
      "text/plain": [
       "HBox(children=(HTML(value=''), FloatProgress(value=0.0, max=4999.0), HTML(value='')))"
      ]
     },
     "metadata": {},
     "output_type": "display_data"
    },
    {
     "name": "stdout",
     "output_type": "stream",
     "text": [
      "\n",
      "Best NRMSE: 3.597943944860543e-05, lambda: 0.001\n"
     ]
    }
   ],
   "source": [
    "grid_search_lstsq([l / 1000 for l in range(1, 5000)])"
   ]
  },
  {
   "cell_type": "markdown",
   "metadata": {},
   "source": [
    "## Cosine Annealing"
   ]
  },
  {
   "cell_type": "code",
   "execution_count": 224,
   "metadata": {},
   "outputs": [],
   "source": [
    "def cosine_decay(base_lr, cur_idx, num_iters, min_lr=.0):\n",
    "    return min_lr + 0.5 * (base_lr - min_lr) * (1 + np.cos(math.pi * cur_idx / num_iters))"
   ]
  },
  {
   "cell_type": "code",
   "execution_count": 225,
   "metadata": {},
   "outputs": [
    {
     "data": {
      "image/png": "[encoded data removed]",
      "text/plain": [
       "<Figure size 432x288 with 1 Axes>"
      ]
     },
     "metadata": {
      "needs_background": "light"
     },
     "output_type": "display_data"
    }
   ],
   "source": [
    "plt.plot([cosine_decay(0.02, i, 10000) for i in range(10000)])\n",
    "plt.show()"
   ]
  },
  {
   "cell_type": "markdown",
   "metadata": {},
   "source": [
    "## Стохастический градиентный спуск\n",
    "\n",
    "$$\\hat{y} = w X + b$$\n",
    "\n",
    "добавляя единичку в конец признаков X:   \n",
    "\n",
    "$$\\hat{y} = w X$$\n",
    "\n",
    "$$\\frac{\\partial \\hat{y}}{\\partial w} = X$$\n",
    "\n",
    "$$L = (y - \\hat{y})^2 + \\lambda {\\lVert \\mathbf{w} \\rVert}^2$$\n",
    "\n",
    "$$\\frac{\\partial L}{\\partial \\hat{y}} = 2 (\\hat{y} - y)$$\n",
    "\n",
    "$$\\frac{\\partial L}{\\partial w} = \\frac{\\partial L}{\\partial \\hat{y}} \\frac{\\partial \\hat{y}}{\\partial w} = 2 ((\\hat{y} - y) X + \\lambda w)$$"
   ]
  },
  {
   "cell_type": "code",
   "execution_count": 226,
   "metadata": {},
   "outputs": [],
   "source": [
    "def stochastic_gradient(X_i, y_i, weights, lambda_reg):\n",
    "    y_hat = X_i @ weights\n",
    "    grad = 2 * ((y_hat - y_i) * X_i + lambda_reg * weights)\n",
    "    \n",
    "    return grad\n",
    "\n",
    "\n",
    "def sgd(X_train, y_train, lambd=0.0, learning_rate=0.01, visualize=True, num_iters=2000):\n",
    "    \"\"\" Stochastic Gradient Descent of Linear Regression \n",
    "    with L2 Reg, Loss EMA, Cosine LR Decay \"\"\"\n",
    "    n = X_train.shape[0]\n",
    "    k = X_train.shape[1]\n",
    "    \n",
    "    # Uniform initilization\n",
    "    weights = np.random.uniform(low=-1/(2 * n), high=1/(2 * n), size=k)\n",
    "    \n",
    "    losses = list()\n",
    "    \n",
    "    for iter_idx in range(num_iters):\n",
    "        sample_idx = np.random.randint(n)\n",
    "        \n",
    "        y_hat = X_train[sample_idx] @ weights\n",
    "        l2_loss = (y_hat - y_train[sample_idx]) ** 2\n",
    "        losses.append(l2_loss)\n",
    "        \n",
    "        weights -= cosine_decay(\n",
    "            learning_rate, iter_idx, num_iters) * stochastic_gradient(\n",
    "            X_train[sample_idx], y_train[sample_idx], weights, lambd)\n",
    "    \n",
    "    if visualize:\n",
    "        plt.title(\"L2 Loss\")\n",
    "        plt.plot(losses)\n",
    "        plt.show\n",
    "    \n",
    "    return weights"
   ]
  },
  {
   "cell_type": "code",
   "execution_count": 227,
   "metadata": {},
   "outputs": [],
   "source": [
    "def grid_search_sgd(lambdas, learning_rates):\n",
    "    configs = list(product(lambdas, learning_rates))\n",
    "\n",
    "    best_config = None\n",
    "    best_test_metric = 999999\n",
    "\n",
    "    for config in tqdm(configs):\n",
    "        weights = sgd(X_train, y_train, config[0], config[1], False)\n",
    "        metric = nrmse(X_test, y_test, weights)\n",
    "\n",
    "        if metric < best_test_metric:\n",
    "            best_test_metric = metric\n",
    "            best_config = config\n",
    "            \n",
    "    print(f\"Best Test NRMSE {best_test_metric}, lr: {best_config[1]}, lambda {best_config[0]}\")\n",
    "    \n",
    "    return best_config"
   ]
  },
  {
   "cell_type": "code",
   "execution_count": 228,
   "metadata": {},
   "outputs": [
    {
     "data": {
      "application/vnd.jupyter.widget-view+json": {
       "model_id": "753a2495d94a475896005d4782418326",
       "version_major": 2,
       "version_minor": 0
      },
      "text/plain": [
       "HBox(children=(HTML(value=''), FloatProgress(value=0.0, max=56.0), HTML(value='')))"
      ]
     },
     "metadata": {},
     "output_type": "display_data"
    },
    {
     "name": "stderr",
     "output_type": "stream",
     "text": [
      "/home/seva/anaconda3/envs/stats/lib/python3.7/site-packages/ipykernel_launcher.py:23: RuntimeWarning: overflow encountered in double_scalars\n",
      "/home/seva/anaconda3/envs/stats/lib/python3.7/site-packages/ipykernel_launcher.py:6: RuntimeWarning: overflow encountered in square\n",
      "  \n",
      "/home/seva/anaconda3/envs/stats/lib/python3.7/site-packages/ipykernel_launcher.py:22: RuntimeWarning: overflow encountered in matmul\n",
      "/home/seva/anaconda3/envs/stats/lib/python3.7/site-packages/ipykernel_launcher.py:2: RuntimeWarning: overflow encountered in matmul\n",
      "  \n",
      "/home/seva/anaconda3/envs/stats/lib/python3.7/site-packages/ipykernel_launcher.py:3: RuntimeWarning: invalid value encountered in multiply\n",
      "  This is separate from the ipykernel package so we can avoid doing imports until\n",
      "/home/seva/anaconda3/envs/stats/lib/python3.7/site-packages/ipykernel_launcher.py:22: RuntimeWarning: invalid value encountered in matmul\n",
      "/home/seva/anaconda3/envs/stats/lib/python3.7/site-packages/ipykernel_launcher.py:2: RuntimeWarning: invalid value encountered in matmul\n",
      "  \n",
      "/home/seva/anaconda3/envs/stats/lib/python3.7/site-packages/ipykernel_launcher.py:3: RuntimeWarning: overflow encountered in multiply\n",
      "  This is separate from the ipykernel package so we can avoid doing imports until\n",
      "/home/seva/anaconda3/envs/stats/lib/python3.7/site-packages/ipykernel_launcher.py:28: RuntimeWarning: invalid value encountered in subtract\n"
     ]
    },
    {
     "name": "stdout",
     "output_type": "stream",
     "text": [
      "\n",
      "Best Test NRMSE 0.05454415306058168, lr: 0.001, lambda 0.001\n"
     ]
    }
   ],
   "source": [
    "best_config = grid_search_sgd(\n",
    "    [0.00, 1e-1, 1e-2, 1e-3, 1e-4, 1e-5, 0.5],\n",
    "    [5e-4, 1e-4, 5e-3, 1e-3, 5e-2, 1e-2, 5e-1, 1e-1]\n",
    ")"
   ]
  },
  {
   "cell_type": "code",
   "execution_count": 229,
   "metadata": {},
   "outputs": [
    {
     "data": {
      "text/plain": [
       "0.05551277085501627"
      ]
     },
     "execution_count": 229,
     "metadata": {},
     "output_type": "execute_result"
    },
    {
     "data": {
      "image/png": "[encoded data removed]",
      "text/plain": [
       "<Figure size 432x288 with 1 Axes>"
      ]
     },
     "metadata": {
      "needs_background": "light"
     },
     "output_type": "display_data"
    }
   ],
   "source": [
    "weights = sgd(X_train, y_train, best_config[0], best_config[1], True)\n",
    "nrmse(X_test, y_test, weights)"
   ]
  },
  {
   "cell_type": "code",
   "execution_count": 230,
   "metadata": {},
   "outputs": [],
   "source": [
    "def epoched_sgd(X_train, y_train, lambd=0.0, learning_rate=0.01, check_every_k=10, num_iters=2000):\n",
    "    \"\"\" Stochastic Gradient Descent of Linear Regression \n",
    "    with L2 Reg, Loss EMA, Cosine LR Decay \"\"\"\n",
    "    n = X_train.shape[0]\n",
    "    k = X_train.shape[1]\n",
    "    \n",
    "    # Uniform initilization\n",
    "    weights = np.random.uniform(low=-1/(2 * n), high=1/(2 * n), size=k)\n",
    "    \n",
    "    train_scores = list()\n",
    "    test_scores = list()\n",
    "    \n",
    "    for iter_idx in range(num_iters):\n",
    "        sample_idx = np.random.randint(n)\n",
    "                \n",
    "        weights -= cosine_decay(\n",
    "            learning_rate, iter_idx, num_iters) * stochastic_gradient(\n",
    "            X_train[sample_idx], y_train[sample_idx], weights, lambd)\n",
    "        \n",
    "        if iter_idx % check_every_k == 0:\n",
    "            train_scores.append(nrmse(X_train, y_train, weights))\n",
    "            test_scores.append(nrmse(X_test, y_test, weights))\n",
    "        \n",
    "    \n",
    "    return weights, train_scores, test_scores"
   ]
  },
  {
   "cell_type": "code",
   "execution_count": 231,
   "metadata": {},
   "outputs": [],
   "source": [
    "w, train_scores, test_scores = epoched_sgd(X_train, y_train, best_config[0], best_config[1])"
   ]
  },
  {
   "cell_type": "code",
   "execution_count": 232,
   "metadata": {},
   "outputs": [
    {
     "data": {
      "image/png": "[encoded data removed]",
      "text/plain": [
       "<Figure size 432x288 with 1 Axes>"
      ]
     },
     "metadata": {
      "needs_background": "light"
     },
     "output_type": "display_data"
    }
   ],
   "source": [
    "plt.plot(train_scores, label=\"train\")\n",
    "plt.plot(test_scores, label=\"test\")\n",
    "plt.xlabel(\"Iteration\")\n",
    "plt.ylabel(\"NRMSE\")\n",
    "plt.legend()\n",
    "\n",
    "plt.show()"
   ]
  },
  {
   "cell_type": "markdown",
   "metadata": {},
   "source": [
    "## Датасет 2"
   ]
  },
  {
   "cell_type": "code",
   "execution_count": 234,
   "metadata": {},
   "outputs": [],
   "source": [
    "X_train, y_train, X_test, y_test = read_dataset(\"data/2.txt\")\n",
    "X_train, X_test = preprocess_features(X_train, X_test)"
   ]
  },
  {
   "cell_type": "code",
   "execution_count": 235,
   "metadata": {},
   "outputs": [
    {
     "data": {
      "application/vnd.jupyter.widget-view+json": {
       "model_id": "5101a0ec5cdf4f3cbc98747bd9b952d7",
       "version_major": 2,
       "version_minor": 0
      },
      "text/plain": [
       "HBox(children=(HTML(value=''), FloatProgress(value=0.0, max=4999.0), HTML(value='')))"
      ]
     },
     "metadata": {},
     "output_type": "display_data"
    },
    {
     "name": "stdout",
     "output_type": "stream",
     "text": [
      "\n",
      "Best NRMSE: 2.649530130966039e-06, lambda: 0.01\n"
     ]
    }
   ],
   "source": [
    "grid_search_lstsq([l / 1000 for l in range(1, 5000)])"
   ]
  },
  {
   "cell_type": "code",
   "execution_count": 236,
   "metadata": {},
   "outputs": [
    {
     "data": {
      "application/vnd.jupyter.widget-view+json": {
       "model_id": "da8bf401676646a58f87c958c9341b84",
       "version_major": 2,
       "version_minor": 0
      },
      "text/plain": [
       "HBox(children=(HTML(value=''), FloatProgress(value=0.0, max=56.0), HTML(value='')))"
      ]
     },
     "metadata": {},
     "output_type": "display_data"
    },
    {
     "name": "stderr",
     "output_type": "stream",
     "text": [
      "/home/seva/anaconda3/envs/stats/lib/python3.7/site-packages/ipykernel_launcher.py:23: RuntimeWarning: overflow encountered in double_scalars\n",
      "/home/seva/anaconda3/envs/stats/lib/python3.7/site-packages/ipykernel_launcher.py:3: RuntimeWarning: overflow encountered in multiply\n",
      "  This is separate from the ipykernel package so we can avoid doing imports until\n",
      "/home/seva/anaconda3/envs/stats/lib/python3.7/site-packages/ipykernel_launcher.py:22: RuntimeWarning: overflow encountered in matmul\n",
      "/home/seva/anaconda3/envs/stats/lib/python3.7/site-packages/ipykernel_launcher.py:2: RuntimeWarning: overflow encountered in matmul\n",
      "  \n",
      "/home/seva/anaconda3/envs/stats/lib/python3.7/site-packages/ipykernel_launcher.py:3: RuntimeWarning: invalid value encountered in multiply\n",
      "  This is separate from the ipykernel package so we can avoid doing imports until\n",
      "/home/seva/anaconda3/envs/stats/lib/python3.7/site-packages/ipykernel_launcher.py:22: RuntimeWarning: invalid value encountered in matmul\n",
      "/home/seva/anaconda3/envs/stats/lib/python3.7/site-packages/ipykernel_launcher.py:2: RuntimeWarning: invalid value encountered in matmul\n",
      "  \n",
      "/home/seva/anaconda3/envs/stats/lib/python3.7/site-packages/ipykernel_launcher.py:6: RuntimeWarning: overflow encountered in square\n",
      "  \n",
      "/home/seva/anaconda3/envs/stats/lib/python3.7/site-packages/ipykernel_launcher.py:28: RuntimeWarning: invalid value encountered in subtract\n"
     ]
    },
    {
     "name": "stdout",
     "output_type": "stream",
     "text": [
      "\n",
      "Best Test NRMSE 4.939432470442497e-06, lr: 0.01, lambda 1e-05\n"
     ]
    }
   ],
   "source": [
    "best_config = grid_search_sgd(\n",
    "    [0.00, 1e-1, 1e-2, 1e-3, 1e-4, 1e-5, 0.5],\n",
    "    [5e-4, 1e-4, 5e-3, 1e-3, 5e-2, 1e-2, 5e-1, 1e-1]\n",
    ")"
   ]
  },
  {
   "cell_type": "code",
   "execution_count": 237,
   "metadata": {},
   "outputs": [
    {
     "data": {
      "text/plain": [
       "6.229818124506692e-06"
      ]
     },
     "execution_count": 237,
     "metadata": {},
     "output_type": "execute_result"
    },
    {
     "data": {
      "image/png": "[encoded data removed]",
      "text/plain": [
       "<Figure size 432x288 with 1 Axes>"
      ]
     },
     "metadata": {
      "needs_background": "light"
     },
     "output_type": "display_data"
    }
   ],
   "source": [
    "weights = sgd(X_train, y_train, best_config[0], best_config[1], True)\n",
    "nrmse(X_test, y_test, weights)"
   ]
  },
  {
   "cell_type": "code",
   "execution_count": 238,
   "metadata": {},
   "outputs": [],
   "source": [
    "w, train_scores, test_scores = epoched_sgd(X_train, y_train, best_config[0], best_config[1])"
   ]
  },
  {
   "cell_type": "code",
   "execution_count": 239,
   "metadata": {},
   "outputs": [
    {
     "data": {
      "image/png": "[encoded data removed]",
      "text/plain": [
       "<Figure size 432x288 with 1 Axes>"
      ]
     },
     "metadata": {
      "needs_background": "light"
     },
     "output_type": "display_data"
    }
   ],
   "source": [
    "plt.plot(train_scores, label=\"train\")\n",
    "plt.plot(test_scores, label=\"test\")\n",
    "plt.xlabel(\"Iteration\")\n",
    "plt.ylabel(\"NRMSE\")\n",
    "plt.legend()\n",
    "\n",
    "plt.show()"
   ]
  }
 ],
 "metadata": {
  "kernelspec": {
   "display_name": "Python 3",
   "language": "python",
   "name": "python3"
  },
  "language_info": {
   "codemirror_mode": {
    "name": "ipython",
    "version": 3
   },
   "file_extension": ".py",
   "mimetype": "text/x-python",
   "name": "python",
   "nbconvert_exporter": "python",
   "pygments_lexer": "ipython3",
   "version": "3.7.7"
  }
 },
 "nbformat": 4,
 "nbformat_minor": 4
}
